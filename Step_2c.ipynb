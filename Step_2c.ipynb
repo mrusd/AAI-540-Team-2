{
 "cells": [
  {
   "cell_type": "markdown",
   "id": "2288a4f0-0459-4d50-a6a7-09d8f2d6ac48",
   "metadata": {},
   "source": [
    "## Part 0: Check Model Groups in my AWS"
   ]
  },
  {
   "cell_type": "code",
   "execution_count": 2,
   "id": "edd45b36-bbdd-4eaf-ac85-97be8ec01203",
   "metadata": {
    "tags": []
   },
   "outputs": [],
   "source": [
    "import boto3\n",
    "\n",
    "# Initialize the SageMaker client\n",
    "sagemaker_client = boto3.client('sagemaker')\n",
    "\n",
    "# List all model package groups\n",
    "response = sagemaker_client.list_model_package_groups()\n",
    "\n",
    "# Print the list of model package groups\n",
    "for group in response['ModelPackageGroupSummaryList']:\n",
    "    print(f\"Model Group Name: {group['ModelPackageGroupName']}, Created On: {group['CreationTime']}\")"
   ]
  },
  {
   "cell_type": "markdown",
   "id": "ef574468-3bed-44fe-aa19-0c202a650169",
   "metadata": {},
   "source": [
    "## Part 1: Set Up Model Group"
   ]
  },
  {
   "cell_type": "markdown",
   "id": "dc8f19ca-da90-4b07-a4f5-c7a291d57c60",
   "metadata": {},
   "source": [
    "- The Model Group will contain a group of versioned models.  \n",
    "- Every time we update the model algorithm, input data, features, model hyperparameters, etc. we will add a new model package to this group."
   ]
  },
  {
   "cell_type": "code",
   "execution_count": 3,
   "id": "3a0b5861-caa2-4fe6-b1f5-f9b41b17b3ee",
   "metadata": {
    "tags": []
   },
   "outputs": [
    {
     "name": "stdout",
     "output_type": "stream",
     "text": [
      "Model Package Group ARN: arn:aws:sagemaker:us-east-1:333907264027:model-package-group/xgboost-diabetes-detection\n"
     ]
    }
   ],
   "source": [
    "import boto3\n",
    "\n",
    "# Initialize the SageMaker client\n",
    "sagemaker_client = boto3.client('sagemaker')\n",
    "\n",
    "# Define the Model Package Group parameters\n",
    "model_package_group_name = \"xgboost-diabetes-detection\"\n",
    "model_package_group_description = \"Model group for versioned models of XGBoost for diabetes detection.\"\n",
    "\n",
    "# Create the Model Package Group\n",
    "response = sagemaker_client.create_model_package_group(\n",
    "    ModelPackageGroupName=model_package_group_name,\n",
    "    ModelPackageGroupDescription=model_package_group_description\n",
    ")\n",
    "\n",
    "print(\"Model Package Group ARN:\", response['ModelPackageGroupArn'])\n"
   ]
  },
  {
   "cell_type": "code",
   "execution_count": 4,
   "id": "c0fdc257-0f34-4305-88cd-86d56474f1c8",
   "metadata": {
    "tags": []
   },
   "outputs": [
    {
     "name": "stdout",
     "output_type": "stream",
     "text": [
      "{'ModelPackageGroupName': 'xgboost-diabetes-detection', 'ModelPackageGroupArn': 'arn:aws:sagemaker:us-east-1:333907264027:model-package-group/xgboost-diabetes-detection', 'ModelPackageGroupDescription': 'Model group for versioned models of XGBoost for diabetes detection.', 'CreationTime': datetime.datetime(2024, 6, 4, 6, 6, 38, 656000, tzinfo=tzlocal()), 'CreatedBy': {'UserProfileArn': 'arn:aws:sagemaker:us-east-1:333907264027:user-profile/d-zegxltkmyanc/maxrep', 'UserProfileName': 'maxrep', 'DomainId': 'd-zegxltkmyanc', 'IamIdentity': {'Arn': 'arn:aws:sts::333907264027:assumed-role/LabRole/SageMaker', 'PrincipalId': 'AROAU3PTMQINWIR2EC7KE:SageMaker'}}, 'ModelPackageGroupStatus': 'Completed', 'ResponseMetadata': {'RequestId': '2d4debe9-6936-4554-b778-872789d6b862', 'HTTPStatusCode': 200, 'HTTPHeaders': {'x-amzn-requestid': '2d4debe9-6936-4554-b778-872789d6b862', 'content-type': 'application/x-amz-json-1.1', 'content-length': '631', 'date': 'Tue, 04 Jun 2024 06:06:42 GMT'}, 'RetryAttempts': 0}}\n"
     ]
    }
   ],
   "source": [
    "# Describe the Model Package Group\n",
    "describe_response = sagemaker_client.describe_model_package_group(\n",
    "    ModelPackageGroupName=model_package_group_name\n",
    ")\n",
    "\n",
    "print(describe_response)"
   ]
  },
  {
   "cell_type": "markdown",
   "id": "a3df8cc6-0fba-492b-9373-9239fdba8b4d",
   "metadata": {},
   "source": [
    "## Part 2: Set Up Model Package"
   ]
  },
  {
   "cell_type": "markdown",
   "id": "061927a7-29fb-452f-b267-085c11c441a2",
   "metadata": {},
   "source": [
    "The Model Package will contain specific details about our current model:  \n",
    "- Our Model Package should document model deployment information (instance image, model data source i.e. our binary artifact, data source, any pre-processor or post-processor scripts, etc.).  \n",
    "- After we learn more about Model monitoring, we can also include model quality, model data quality, model bias and model explainability reports here too!"
   ]
  },
  {
   "cell_type": "markdown",
   "id": "eaabfa90-3ee0-4d0d-8ace-1f677d1e5c25",
   "metadata": {},
   "source": [
    "### - Default Bucket"
   ]
  },
  {
   "cell_type": "code",
   "execution_count": 5,
   "id": "bcaf5ce8-349e-4761-ab6c-2e7f0f919f05",
   "metadata": {
    "tags": []
   },
   "outputs": [
    {
     "name": "stdout",
     "output_type": "stream",
     "text": [
      "sagemaker.config INFO - Not applying SDK defaults from location: /etc/xdg/sagemaker/config.yaml\n",
      "sagemaker.config INFO - Not applying SDK defaults from location: /root/.config/sagemaker/config.yaml\n",
      "Default S3 bucket: sagemaker-us-east-1-333907264027\n"
     ]
    }
   ],
   "source": [
    "import sagemaker\n",
    "\n",
    "# Initialize the SageMaker session\n",
    "sess = sagemaker.Session()\n",
    "\n",
    "# Get the default S3 bucket\n",
    "bucket = sess.default_bucket()\n",
    "print(\"Default S3 bucket:\", bucket)\n"
   ]
  },
  {
   "cell_type": "markdown",
   "id": "fc5b1ed3-6bcd-4efd-a5d5-7da6606617df",
   "metadata": {},
   "source": [
    "### - Model Package"
   ]
  },
  {
   "cell_type": "code",
   "execution_count": 15,
   "id": "25d15d82-1be8-4393-b4be-209cbf5fac63",
   "metadata": {
    "tags": []
   },
   "outputs": [
    {
     "name": "stdout",
     "output_type": "stream",
     "text": [
      "DEMO-diabetes-prediction-xgboost/output/xgb-2024-06-04-01-13-05/xgb-2024-06-04-01-13-05/debug-output/training_job_end.ts\n",
      "DEMO-diabetes-prediction-xgboost/output/xgb-2024-06-04-01-13-05/xgb-2024-06-04-01-13-05/profiler-output/framework/training_job_end.ts\n",
      "DEMO-diabetes-prediction-xgboost/output/xgb-2024-06-04-01-13-05/xgb-2024-06-04-01-13-05/profiler-output/system/incremental/2024060401/1717463580.algo-1.json\n",
      "DEMO-diabetes-prediction-xgboost/output/xgb-2024-06-04-01-13-05/xgb-2024-06-04-01-13-05/profiler-output/system/incremental/2024060401/1717463640.algo-1.json\n",
      "DEMO-diabetes-prediction-xgboost/output/xgb-2024-06-04-01-13-05/xgb-2024-06-04-01-13-05/profiler-output/system/incremental/2024060401/1717463700.algo-1.json\n",
      "DEMO-diabetes-prediction-xgboost/output/xgb-2024-06-04-01-13-05/xgb-2024-06-04-01-13-05/profiler-output/system/training_job_end.ts\n",
      "DEMO-diabetes-prediction-xgboost/output/xgb-2024-06-04-01-39-00/xgb-2024-06-04-01-39-00/debug-output/training_job_end.ts\n",
      "DEMO-diabetes-prediction-xgboost/output/xgb-2024-06-04-01-39-00/xgb-2024-06-04-01-39-00/profiler-output/framework/training_job_end.ts\n",
      "DEMO-diabetes-prediction-xgboost/output/xgb-2024-06-04-01-39-00/xgb-2024-06-04-01-39-00/profiler-output/system/incremental/2024060401/1717465140.algo-1.json\n",
      "DEMO-diabetes-prediction-xgboost/output/xgb-2024-06-04-01-39-00/xgb-2024-06-04-01-39-00/profiler-output/system/incremental/2024060401/1717465200.algo-1.json\n",
      "DEMO-diabetes-prediction-xgboost/output/xgb-2024-06-04-01-39-00/xgb-2024-06-04-01-39-00/profiler-output/system/incremental/2024060401/1717465260.algo-1.json\n",
      "DEMO-diabetes-prediction-xgboost/output/xgb-2024-06-04-01-39-00/xgb-2024-06-04-01-39-00/profiler-output/system/training_job_end.ts\n",
      "DEMO-diabetes-prediction-xgboost/output/xgb-2024-06-04-02-00-56/xgb-2024-06-04-02-00-56/debug-output/training_job_end.ts\n",
      "DEMO-diabetes-prediction-xgboost/output/xgb-2024-06-04-02-00-56/xgb-2024-06-04-02-00-56/profiler-output/framework/training_job_end.ts\n",
      "DEMO-diabetes-prediction-xgboost/output/xgb-2024-06-04-02-00-56/xgb-2024-06-04-02-00-56/profiler-output/system/incremental/2024060402/1717466460.algo-1.json\n",
      "DEMO-diabetes-prediction-xgboost/output/xgb-2024-06-04-02-00-56/xgb-2024-06-04-02-00-56/profiler-output/system/incremental/2024060402/1717466520.algo-1.json\n",
      "DEMO-diabetes-prediction-xgboost/output/xgb-2024-06-04-02-00-56/xgb-2024-06-04-02-00-56/profiler-output/system/incremental/2024060402/1717466580.algo-1.json\n",
      "DEMO-diabetes-prediction-xgboost/output/xgb-2024-06-04-02-00-56/xgb-2024-06-04-02-00-56/profiler-output/system/training_job_end.ts\n",
      "DEMO-diabetes-prediction-xgboost/output/xgb-2024-06-04-02-10-33/xgb-2024-06-04-02-10-33/debug-output/claim.smd\n",
      "DEMO-diabetes-prediction-xgboost/output/xgb-2024-06-04-02-10-33/xgb-2024-06-04-02-10-33/debug-output/collections/000000000/worker_0_collections.json\n",
      "DEMO-diabetes-prediction-xgboost/output/xgb-2024-06-04-02-10-33/xgb-2024-06-04-02-10-33/debug-output/events/000000000000/000000000000_worker_0.tfevents\n",
      "DEMO-diabetes-prediction-xgboost/output/xgb-2024-06-04-02-10-33/xgb-2024-06-04-02-10-33/debug-output/events/000000000010/000000000010_worker_0.tfevents\n",
      "DEMO-diabetes-prediction-xgboost/output/xgb-2024-06-04-02-10-33/xgb-2024-06-04-02-10-33/debug-output/events/000000000020/000000000020_worker_0.tfevents\n",
      "DEMO-diabetes-prediction-xgboost/output/xgb-2024-06-04-02-10-33/xgb-2024-06-04-02-10-33/debug-output/events/000000000030/000000000030_worker_0.tfevents\n",
      "DEMO-diabetes-prediction-xgboost/output/xgb-2024-06-04-02-10-33/xgb-2024-06-04-02-10-33/debug-output/events/000000000040/000000000040_worker_0.tfevents\n",
      "DEMO-diabetes-prediction-xgboost/output/xgb-2024-06-04-02-10-33/xgb-2024-06-04-02-10-33/debug-output/events/000000000050/000000000050_worker_0.tfevents\n",
      "DEMO-diabetes-prediction-xgboost/output/xgb-2024-06-04-02-10-33/xgb-2024-06-04-02-10-33/debug-output/events/000000000060/000000000060_worker_0.tfevents\n",
      "DEMO-diabetes-prediction-xgboost/output/xgb-2024-06-04-02-10-33/xgb-2024-06-04-02-10-33/debug-output/events/000000000070/000000000070_worker_0.tfevents\n",
      "DEMO-diabetes-prediction-xgboost/output/xgb-2024-06-04-02-10-33/xgb-2024-06-04-02-10-33/debug-output/events/000000000080/000000000080_worker_0.tfevents\n",
      "DEMO-diabetes-prediction-xgboost/output/xgb-2024-06-04-02-10-33/xgb-2024-06-04-02-10-33/debug-output/events/000000000090/000000000090_worker_0.tfevents\n",
      "DEMO-diabetes-prediction-xgboost/output/xgb-2024-06-04-02-10-33/xgb-2024-06-04-02-10-33/debug-output/index/000000000/000000000000_worker_0.json\n",
      "DEMO-diabetes-prediction-xgboost/output/xgb-2024-06-04-02-10-33/xgb-2024-06-04-02-10-33/debug-output/index/000000000/000000000010_worker_0.json\n",
      "DEMO-diabetes-prediction-xgboost/output/xgb-2024-06-04-02-10-33/xgb-2024-06-04-02-10-33/debug-output/index/000000000/000000000020_worker_0.json\n",
      "DEMO-diabetes-prediction-xgboost/output/xgb-2024-06-04-02-10-33/xgb-2024-06-04-02-10-33/debug-output/index/000000000/000000000030_worker_0.json\n",
      "DEMO-diabetes-prediction-xgboost/output/xgb-2024-06-04-02-10-33/xgb-2024-06-04-02-10-33/debug-output/index/000000000/000000000040_worker_0.json\n",
      "DEMO-diabetes-prediction-xgboost/output/xgb-2024-06-04-02-10-33/xgb-2024-06-04-02-10-33/debug-output/index/000000000/000000000050_worker_0.json\n",
      "DEMO-diabetes-prediction-xgboost/output/xgb-2024-06-04-02-10-33/xgb-2024-06-04-02-10-33/debug-output/index/000000000/000000000060_worker_0.json\n",
      "DEMO-diabetes-prediction-xgboost/output/xgb-2024-06-04-02-10-33/xgb-2024-06-04-02-10-33/debug-output/index/000000000/000000000070_worker_0.json\n",
      "DEMO-diabetes-prediction-xgboost/output/xgb-2024-06-04-02-10-33/xgb-2024-06-04-02-10-33/debug-output/index/000000000/000000000080_worker_0.json\n",
      "DEMO-diabetes-prediction-xgboost/output/xgb-2024-06-04-02-10-33/xgb-2024-06-04-02-10-33/debug-output/index/000000000/000000000090_worker_0.json\n",
      "DEMO-diabetes-prediction-xgboost/output/xgb-2024-06-04-02-10-33/xgb-2024-06-04-02-10-33/debug-output/training_job_end.ts\n",
      "DEMO-diabetes-prediction-xgboost/output/xgb-2024-06-04-02-10-33/xgb-2024-06-04-02-10-33/output/model.tar.gz\n",
      "DEMO-diabetes-prediction-xgboost/output/xgb-2024-06-04-02-10-33/xgb-2024-06-04-02-10-33/profiler-output/framework/training_job_end.ts\n",
      "DEMO-diabetes-prediction-xgboost/output/xgb-2024-06-04-02-10-33/xgb-2024-06-04-02-10-33/profiler-output/system/incremental/2024060402/1717467060.algo-1.json\n",
      "DEMO-diabetes-prediction-xgboost/output/xgb-2024-06-04-02-10-33/xgb-2024-06-04-02-10-33/profiler-output/system/incremental/2024060402/1717467120.algo-1.json\n",
      "DEMO-diabetes-prediction-xgboost/output/xgb-2024-06-04-02-10-33/xgb-2024-06-04-02-10-33/profiler-output/system/training_job_end.ts\n",
      "DEMO-diabetes-prediction-xgboost/output/xgb-2024-06-04-02-55-34/xgb-2024-06-04-02-55-34/debug-output/claim.smd\n",
      "DEMO-diabetes-prediction-xgboost/output/xgb-2024-06-04-02-55-34/xgb-2024-06-04-02-55-34/debug-output/collections/000000000/worker_0_collections.json\n",
      "DEMO-diabetes-prediction-xgboost/output/xgb-2024-06-04-02-55-34/xgb-2024-06-04-02-55-34/debug-output/events/000000000000/000000000000_worker_0.tfevents\n",
      "DEMO-diabetes-prediction-xgboost/output/xgb-2024-06-04-02-55-34/xgb-2024-06-04-02-55-34/debug-output/events/000000000010/000000000010_worker_0.tfevents\n",
      "DEMO-diabetes-prediction-xgboost/output/xgb-2024-06-04-02-55-34/xgb-2024-06-04-02-55-34/debug-output/events/000000000020/000000000020_worker_0.tfevents\n",
      "DEMO-diabetes-prediction-xgboost/output/xgb-2024-06-04-02-55-34/xgb-2024-06-04-02-55-34/debug-output/events/000000000030/000000000030_worker_0.tfevents\n",
      "DEMO-diabetes-prediction-xgboost/output/xgb-2024-06-04-02-55-34/xgb-2024-06-04-02-55-34/debug-output/events/000000000040/000000000040_worker_0.tfevents\n",
      "DEMO-diabetes-prediction-xgboost/output/xgb-2024-06-04-02-55-34/xgb-2024-06-04-02-55-34/debug-output/events/000000000050/000000000050_worker_0.tfevents\n",
      "DEMO-diabetes-prediction-xgboost/output/xgb-2024-06-04-02-55-34/xgb-2024-06-04-02-55-34/debug-output/events/000000000060/000000000060_worker_0.tfevents\n",
      "DEMO-diabetes-prediction-xgboost/output/xgb-2024-06-04-02-55-34/xgb-2024-06-04-02-55-34/debug-output/events/000000000070/000000000070_worker_0.tfevents\n",
      "DEMO-diabetes-prediction-xgboost/output/xgb-2024-06-04-02-55-34/xgb-2024-06-04-02-55-34/debug-output/events/000000000080/000000000080_worker_0.tfevents\n",
      "DEMO-diabetes-prediction-xgboost/output/xgb-2024-06-04-02-55-34/xgb-2024-06-04-02-55-34/debug-output/events/000000000090/000000000090_worker_0.tfevents\n",
      "DEMO-diabetes-prediction-xgboost/output/xgb-2024-06-04-02-55-34/xgb-2024-06-04-02-55-34/debug-output/index/000000000/000000000000_worker_0.json\n",
      "DEMO-diabetes-prediction-xgboost/output/xgb-2024-06-04-02-55-34/xgb-2024-06-04-02-55-34/debug-output/index/000000000/000000000010_worker_0.json\n",
      "DEMO-diabetes-prediction-xgboost/output/xgb-2024-06-04-02-55-34/xgb-2024-06-04-02-55-34/debug-output/index/000000000/000000000020_worker_0.json\n",
      "DEMO-diabetes-prediction-xgboost/output/xgb-2024-06-04-02-55-34/xgb-2024-06-04-02-55-34/debug-output/index/000000000/000000000030_worker_0.json\n",
      "DEMO-diabetes-prediction-xgboost/output/xgb-2024-06-04-02-55-34/xgb-2024-06-04-02-55-34/debug-output/index/000000000/000000000040_worker_0.json\n",
      "DEMO-diabetes-prediction-xgboost/output/xgb-2024-06-04-02-55-34/xgb-2024-06-04-02-55-34/debug-output/index/000000000/000000000050_worker_0.json\n",
      "DEMO-diabetes-prediction-xgboost/output/xgb-2024-06-04-02-55-34/xgb-2024-06-04-02-55-34/debug-output/index/000000000/000000000060_worker_0.json\n",
      "DEMO-diabetes-prediction-xgboost/output/xgb-2024-06-04-02-55-34/xgb-2024-06-04-02-55-34/debug-output/index/000000000/000000000070_worker_0.json\n",
      "DEMO-diabetes-prediction-xgboost/output/xgb-2024-06-04-02-55-34/xgb-2024-06-04-02-55-34/debug-output/index/000000000/000000000080_worker_0.json\n",
      "DEMO-diabetes-prediction-xgboost/output/xgb-2024-06-04-02-55-34/xgb-2024-06-04-02-55-34/debug-output/index/000000000/000000000090_worker_0.json\n",
      "DEMO-diabetes-prediction-xgboost/output/xgb-2024-06-04-02-55-34/xgb-2024-06-04-02-55-34/debug-output/training_job_end.ts\n",
      "DEMO-diabetes-prediction-xgboost/output/xgb-2024-06-04-02-55-34/xgb-2024-06-04-02-55-34/output/model.tar.gz\n",
      "DEMO-diabetes-prediction-xgboost/output/xgb-2024-06-04-02-55-34/xgb-2024-06-04-02-55-34/profiler-output/framework/training_job_end.ts\n",
      "DEMO-diabetes-prediction-xgboost/output/xgb-2024-06-04-02-55-34/xgb-2024-06-04-02-55-34/profiler-output/system/incremental/2024060402/1717469760.algo-1.json\n",
      "DEMO-diabetes-prediction-xgboost/output/xgb-2024-06-04-02-55-34/xgb-2024-06-04-02-55-34/profiler-output/system/incremental/2024060402/1717469820.algo-1.json\n",
      "DEMO-diabetes-prediction-xgboost/output/xgb-2024-06-04-02-55-34/xgb-2024-06-04-02-55-34/profiler-output/system/training_job_end.ts\n"
     ]
    }
   ],
   "source": [
    "# Verify the S3 objects in the specified bucket and prefix\n",
    "import boto3\n",
    "\n",
    "s3_client = boto3.client('s3')\n",
    "response = s3_client.list_objects_v2(Bucket=bucket, Prefix='DEMO-diabetes-prediction-xgboost/output/')\n",
    "\n",
    "for obj in response.get('Contents', []):\n",
    "    print(obj['Key'])"
   ]
  },
  {
   "cell_type": "code",
   "execution_count": 6,
   "id": "9135e262-2f1e-40f1-828e-544be903179d",
   "metadata": {
    "tags": []
   },
   "outputs": [
    {
     "name": "stdout",
     "output_type": "stream",
     "text": [
      "Default S3 bucket: sagemaker-us-east-1-333907264027\n",
      "Model Package ARN: arn:aws:sagemaker:us-east-1:333907264027:model-package/xgboost-diabetes-detection/1\n",
      "{'ModelPackageGroupName': 'xgboost-diabetes-detection', 'ModelPackageVersion': 1, 'ModelPackageArn': 'arn:aws:sagemaker:us-east-1:333907264027:model-package/xgboost-diabetes-detection/1', 'ModelPackageDescription': 'XGBoost model package for diabetes detection', 'CreationTime': datetime.datetime(2024, 6, 4, 6, 6, 53, 122000, tzinfo=tzlocal()), 'InferenceSpecification': {'Containers': [{'Image': '683313688378.dkr.ecr.us-east-1.amazonaws.com/sagemaker-xgboost:1.7-1', 'ImageDigest': 'sha256:cf81520a3b695293022793e292cf8bc3732b79231a6ebe1fb308086f6163a875', 'ModelDataUrl': 's3://sagemaker-us-east-1-333907264027/DEMO-diabetes-prediction-xgboost/output/xgb-2024-06-04-02-10-33/xgb-2024-06-04-02-10-33/output/model.tar.gz', 'Environment': {}}], 'SupportedTransformInstanceTypes': ['ml.m4.xlarge'], 'SupportedRealtimeInferenceInstanceTypes': ['ml.m4.xlarge'], 'SupportedContentTypes': ['text/csv'], 'SupportedResponseMIMETypes': ['text/csv']}, 'ModelPackageStatus': 'Completed', 'ModelPackageStatusDetails': {'ValidationStatuses': [], 'ImageScanStatuses': []}, 'CertifyForMarketplace': False, 'ModelApprovalStatus': 'Approved', 'CreatedBy': {'UserProfileArn': 'arn:aws:sagemaker:us-east-1:333907264027:user-profile/d-zegxltkmyanc/maxrep', 'UserProfileName': 'maxrep', 'DomainId': 'd-zegxltkmyanc', 'IamIdentity': {'Arn': 'arn:aws:sts::333907264027:assumed-role/LabRole/SageMaker', 'PrincipalId': 'AROAU3PTMQINWIR2EC7KE:SageMaker'}}, 'ResponseMetadata': {'RequestId': '9eb344d1-21b5-4069-b04a-779e2d70484e', 'HTTPStatusCode': 200, 'HTTPHeaders': {'x-amzn-requestid': '9eb344d1-21b5-4069-b04a-779e2d70484e', 'content-type': 'application/x-amz-json-1.1', 'content-length': '1333', 'date': 'Tue, 04 Jun 2024 06:06:52 GMT'}, 'RetryAttempts': 0}}\n"
     ]
    }
   ],
   "source": [
    "import boto3\n",
    "import sagemaker\n",
    "\n",
    "# Initialize the SageMaker session\n",
    "sess = sagemaker.Session()\n",
    "\n",
    "# Get the default S3 bucket\n",
    "bucket = sess.default_bucket()\n",
    "print(\"Default S3 bucket:\", bucket)\n",
    "\n",
    "# Initialize the SageMaker client\n",
    "sagemaker_client = boto3.client('sagemaker')\n",
    "\n",
    "# Define the model package parameters\n",
    "model_package_group_name = \"xgboost-diabetes-detection\"\n",
    "model_package_name = \"xgboost-diabetes-detection-v1\"\n",
    "model_data_url = \"s3://{}/DEMO-diabetes-prediction-xgboost/output/xgb-2024-06-04-02-10-33/xgb-2024-06-04-02-10-33/output/model.tar.gz\".format(bucket)\n",
    "container_image_uri = sagemaker.image_uris.retrieve(\"xgboost\", region=boto3.Session().region_name, version=\"1.7-1\")\n",
    "\n",
    "# Create the Model Package\n",
    "create_model_package_response = sagemaker_client.create_model_package(\n",
    "    ModelPackageGroupName=model_package_group_name,\n",
    "    ModelPackageDescription=\"XGBoost model package for diabetes detection\",\n",
    "    ModelApprovalStatus=\"Approved\",\n",
    "    InferenceSpecification={\n",
    "        \"Containers\": [\n",
    "            {\n",
    "                \"Image\": container_image_uri,\n",
    "                \"ModelDataUrl\": model_data_url,\n",
    "                \"Environment\": {}\n",
    "            }\n",
    "        ],\n",
    "        \"SupportedTransformInstanceTypes\": [\n",
    "            \"ml.m4.xlarge\"\n",
    "        ],\n",
    "        \"SupportedRealtimeInferenceInstanceTypes\": [\n",
    "            \"ml.m4.xlarge\"\n",
    "        ],\n",
    "        \"SupportedContentTypes\": [\"text/csv\"],\n",
    "        \"SupportedResponseMIMETypes\": [\"text/csv\"]\n",
    "    }\n",
    ")\n",
    "\n",
    "print(\"Model Package ARN:\", create_model_package_response['ModelPackageArn'])\n",
    "\n",
    "# Describe the Model Package\n",
    "describe_model_package_response = sagemaker_client.describe_model_package(\n",
    "    ModelPackageName=create_model_package_response['ModelPackageArn']\n",
    ")\n",
    "\n",
    "print(describe_model_package_response)\n"
   ]
  },
  {
   "cell_type": "markdown",
   "id": "1ffa0c91-60b7-4416-a6ff-2931ce898e34",
   "metadata": {},
   "source": [
    "### - Delete a Model Group (including its Model Packages)"
   ]
  },
  {
   "cell_type": "code",
   "execution_count": 7,
   "id": "3ac27a6e-18e1-4618-9801-5a4f1581d5ed",
   "metadata": {},
   "outputs": [
    {
     "name": "stdout",
     "output_type": "stream",
     "text": [
      "Deleting Model Package: arn:aws:sagemaker:us-east-1:333907264027:model-package/xgboost-diabetes-detection/1\n",
      "Deleted Model Group: xgboost-diabetes-detection\n"
     ]
    }
   ],
   "source": [
    "import boto3\n",
    "\n",
    "# Initialize the SageMaker client\n",
    "sagemaker_client = boto3.client('sagemaker')\n",
    "\n",
    "# Define the Model Group name that you want to DELETE !!!\n",
    "model_group_name = \"xgboost-diabetes-detection\"\n",
    "\n",
    "# List all Model Packages in the Model Group\n",
    "paginator = sagemaker_client.get_paginator('list_model_packages')\n",
    "response_iterator = paginator.paginate(\n",
    "    ModelPackageGroupName=model_group_name\n",
    ")\n",
    "\n",
    "# Collect all model package names\n",
    "model_package_names = []\n",
    "for page in response_iterator:\n",
    "    for model_package_summary in page['ModelPackageSummaryList']:\n",
    "        model_package_names.append(model_package_summary['ModelPackageArn'])\n",
    "\n",
    "# Delete each Model Package in the Model Group\n",
    "for model_package_arn in model_package_names:\n",
    "    print(f\"Deleting Model Package: {model_package_arn}\")\n",
    "    sagemaker_client.delete_model_package(\n",
    "        ModelPackageName=model_package_arn\n",
    "    )\n",
    "\n",
    "# Delete the Model Group\n",
    "sagemaker_client.delete_model_package_group(\n",
    "    ModelPackageGroupName=model_group_name\n",
    ")\n",
    "\n",
    "print(f\"Deleted Model Group: {model_group_name}\")"
   ]
  },
  {
   "cell_type": "markdown",
   "id": "e4e84388-1f6f-499f-aa48-a76ed2c8b6e5",
   "metadata": {},
   "source": [
    "## Part 3: Write the Model Card"
   ]
  },
  {
   "cell_type": "markdown",
   "id": "a454ba35-798b-4537-8a7b-e20f112d40e1",
   "metadata": {},
   "source": [
    "Review the API documentation AND the Model Card JSON Schema and fill out what you can.  \n",
    "- Again, it’s important to document what is useful to you and your team, but keep documentation brief so it is still readable.  \n",
    "- What we really want to get out of the Model Card is a snapshot of the model and its purpose so that we remember why and how a model was built.  \n",
    "- Additionally, we want to document every experiment that we tried to improve our model’s performance so that we don’t keep trying the same thing over and over and waste engineering effort during model development and optimization."
   ]
  },
  {
   "cell_type": "markdown",
   "id": "a8e6f3be-b4bf-448e-a2d0-ceaa1c2bbcac",
   "metadata": {},
   "source": [
    "### - List ALL 'Existing' Model Cards"
   ]
  },
  {
   "cell_type": "code",
   "execution_count": 8,
   "id": "2fdcb4a7-0e99-4fb2-9547-52bba4607204",
   "metadata": {
    "tags": []
   },
   "outputs": [
    {
     "name": "stdout",
     "output_type": "stream",
     "text": [
      "No Model Cards Exist\n"
     ]
    }
   ],
   "source": [
    "import boto3\n",
    "\n",
    "# Initialize the SageMaker client\n",
    "sagemaker_client = boto3.client('sagemaker')\n",
    "\n",
    "# List all Model Cards\n",
    "list_model_cards_response = sagemaker_client.list_model_cards()\n",
    "\n",
    "# Print the list of Model Cards\n",
    "for model_card in list_model_cards_response.get('ModelCardSummaries', []):\n",
    "    print(f\"Model Card Name: {model_card['ModelCardName']}, Creation Time: {model_card['CreationTime']}\")\n",
    "\n",
    "# If there are additional attributes, print them\n",
    "for model_card in list_model_cards_response.get('ModelCardSummaries', []):\n",
    "    for key, value in model_card.items():\n",
    "        print(f\"{key}: {value}\")\n",
    "    print(\"----\")\n",
    "if len(list_model_cards_response.get('ModelCardSummaries', [])) == 0:\n",
    "    print('No Model Cards Exist')"
   ]
  },
  {
   "cell_type": "code",
   "execution_count": 14,
   "id": "c62db461-a062-4a2d-b2f8-77db0879ef07",
   "metadata": {
    "tags": []
   },
   "outputs": [
    {
     "name": "stdout",
     "output_type": "stream",
     "text": [
      "DEMO-diabetes-prediction-xgboost/batch/batch_data.csv\n",
      "DEMO-diabetes-prediction-xgboost/output/xgb-2024-06-04-01-13-05/xgb-2024-06-04-01-13-05/debug-output/training_job_end.ts\n",
      "DEMO-diabetes-prediction-xgboost/output/xgb-2024-06-04-01-13-05/xgb-2024-06-04-01-13-05/profiler-output/framework/training_job_end.ts\n",
      "DEMO-diabetes-prediction-xgboost/output/xgb-2024-06-04-01-13-05/xgb-2024-06-04-01-13-05/profiler-output/system/incremental/2024060401/1717463580.algo-1.json\n",
      "DEMO-diabetes-prediction-xgboost/output/xgb-2024-06-04-01-13-05/xgb-2024-06-04-01-13-05/profiler-output/system/incremental/2024060401/1717463640.algo-1.json\n",
      "DEMO-diabetes-prediction-xgboost/output/xgb-2024-06-04-01-13-05/xgb-2024-06-04-01-13-05/profiler-output/system/incremental/2024060401/1717463700.algo-1.json\n",
      "DEMO-diabetes-prediction-xgboost/output/xgb-2024-06-04-01-13-05/xgb-2024-06-04-01-13-05/profiler-output/system/training_job_end.ts\n",
      "DEMO-diabetes-prediction-xgboost/output/xgb-2024-06-04-01-39-00/xgb-2024-06-04-01-39-00/debug-output/training_job_end.ts\n",
      "DEMO-diabetes-prediction-xgboost/output/xgb-2024-06-04-01-39-00/xgb-2024-06-04-01-39-00/profiler-output/framework/training_job_end.ts\n",
      "DEMO-diabetes-prediction-xgboost/output/xgb-2024-06-04-01-39-00/xgb-2024-06-04-01-39-00/profiler-output/system/incremental/2024060401/1717465140.algo-1.json\n",
      "DEMO-diabetes-prediction-xgboost/output/xgb-2024-06-04-01-39-00/xgb-2024-06-04-01-39-00/profiler-output/system/incremental/2024060401/1717465200.algo-1.json\n",
      "DEMO-diabetes-prediction-xgboost/output/xgb-2024-06-04-01-39-00/xgb-2024-06-04-01-39-00/profiler-output/system/incremental/2024060401/1717465260.algo-1.json\n",
      "DEMO-diabetes-prediction-xgboost/output/xgb-2024-06-04-01-39-00/xgb-2024-06-04-01-39-00/profiler-output/system/training_job_end.ts\n",
      "DEMO-diabetes-prediction-xgboost/output/xgb-2024-06-04-02-00-56/xgb-2024-06-04-02-00-56/debug-output/training_job_end.ts\n",
      "DEMO-diabetes-prediction-xgboost/output/xgb-2024-06-04-02-00-56/xgb-2024-06-04-02-00-56/profiler-output/framework/training_job_end.ts\n",
      "DEMO-diabetes-prediction-xgboost/output/xgb-2024-06-04-02-00-56/xgb-2024-06-04-02-00-56/profiler-output/system/incremental/2024060402/1717466460.algo-1.json\n",
      "DEMO-diabetes-prediction-xgboost/output/xgb-2024-06-04-02-00-56/xgb-2024-06-04-02-00-56/profiler-output/system/incremental/2024060402/1717466520.algo-1.json\n",
      "DEMO-diabetes-prediction-xgboost/output/xgb-2024-06-04-02-00-56/xgb-2024-06-04-02-00-56/profiler-output/system/incremental/2024060402/1717466580.algo-1.json\n",
      "DEMO-diabetes-prediction-xgboost/output/xgb-2024-06-04-02-00-56/xgb-2024-06-04-02-00-56/profiler-output/system/training_job_end.ts\n",
      "DEMO-diabetes-prediction-xgboost/output/xgb-2024-06-04-02-10-33/xgb-2024-06-04-02-10-33/debug-output/claim.smd\n",
      "DEMO-diabetes-prediction-xgboost/output/xgb-2024-06-04-02-10-33/xgb-2024-06-04-02-10-33/debug-output/collections/000000000/worker_0_collections.json\n",
      "DEMO-diabetes-prediction-xgboost/output/xgb-2024-06-04-02-10-33/xgb-2024-06-04-02-10-33/debug-output/events/000000000000/000000000000_worker_0.tfevents\n",
      "DEMO-diabetes-prediction-xgboost/output/xgb-2024-06-04-02-10-33/xgb-2024-06-04-02-10-33/debug-output/events/000000000010/000000000010_worker_0.tfevents\n",
      "DEMO-diabetes-prediction-xgboost/output/xgb-2024-06-04-02-10-33/xgb-2024-06-04-02-10-33/debug-output/events/000000000020/000000000020_worker_0.tfevents\n",
      "DEMO-diabetes-prediction-xgboost/output/xgb-2024-06-04-02-10-33/xgb-2024-06-04-02-10-33/debug-output/events/000000000030/000000000030_worker_0.tfevents\n",
      "DEMO-diabetes-prediction-xgboost/output/xgb-2024-06-04-02-10-33/xgb-2024-06-04-02-10-33/debug-output/events/000000000040/000000000040_worker_0.tfevents\n",
      "DEMO-diabetes-prediction-xgboost/output/xgb-2024-06-04-02-10-33/xgb-2024-06-04-02-10-33/debug-output/events/000000000050/000000000050_worker_0.tfevents\n",
      "DEMO-diabetes-prediction-xgboost/output/xgb-2024-06-04-02-10-33/xgb-2024-06-04-02-10-33/debug-output/events/000000000060/000000000060_worker_0.tfevents\n",
      "DEMO-diabetes-prediction-xgboost/output/xgb-2024-06-04-02-10-33/xgb-2024-06-04-02-10-33/debug-output/events/000000000070/000000000070_worker_0.tfevents\n",
      "DEMO-diabetes-prediction-xgboost/output/xgb-2024-06-04-02-10-33/xgb-2024-06-04-02-10-33/debug-output/events/000000000080/000000000080_worker_0.tfevents\n",
      "DEMO-diabetes-prediction-xgboost/output/xgb-2024-06-04-02-10-33/xgb-2024-06-04-02-10-33/debug-output/events/000000000090/000000000090_worker_0.tfevents\n",
      "DEMO-diabetes-prediction-xgboost/output/xgb-2024-06-04-02-10-33/xgb-2024-06-04-02-10-33/debug-output/index/000000000/000000000000_worker_0.json\n",
      "DEMO-diabetes-prediction-xgboost/output/xgb-2024-06-04-02-10-33/xgb-2024-06-04-02-10-33/debug-output/index/000000000/000000000010_worker_0.json\n",
      "DEMO-diabetes-prediction-xgboost/output/xgb-2024-06-04-02-10-33/xgb-2024-06-04-02-10-33/debug-output/index/000000000/000000000020_worker_0.json\n",
      "DEMO-diabetes-prediction-xgboost/output/xgb-2024-06-04-02-10-33/xgb-2024-06-04-02-10-33/debug-output/index/000000000/000000000030_worker_0.json\n",
      "DEMO-diabetes-prediction-xgboost/output/xgb-2024-06-04-02-10-33/xgb-2024-06-04-02-10-33/debug-output/index/000000000/000000000040_worker_0.json\n",
      "DEMO-diabetes-prediction-xgboost/output/xgb-2024-06-04-02-10-33/xgb-2024-06-04-02-10-33/debug-output/index/000000000/000000000050_worker_0.json\n",
      "DEMO-diabetes-prediction-xgboost/output/xgb-2024-06-04-02-10-33/xgb-2024-06-04-02-10-33/debug-output/index/000000000/000000000060_worker_0.json\n",
      "DEMO-diabetes-prediction-xgboost/output/xgb-2024-06-04-02-10-33/xgb-2024-06-04-02-10-33/debug-output/index/000000000/000000000070_worker_0.json\n",
      "DEMO-diabetes-prediction-xgboost/output/xgb-2024-06-04-02-10-33/xgb-2024-06-04-02-10-33/debug-output/index/000000000/000000000080_worker_0.json\n",
      "DEMO-diabetes-prediction-xgboost/output/xgb-2024-06-04-02-10-33/xgb-2024-06-04-02-10-33/debug-output/index/000000000/000000000090_worker_0.json\n",
      "DEMO-diabetes-prediction-xgboost/output/xgb-2024-06-04-02-10-33/xgb-2024-06-04-02-10-33/debug-output/training_job_end.ts\n",
      "DEMO-diabetes-prediction-xgboost/output/xgb-2024-06-04-02-10-33/xgb-2024-06-04-02-10-33/output/model.tar.gz\n",
      "DEMO-diabetes-prediction-xgboost/output/xgb-2024-06-04-02-10-33/xgb-2024-06-04-02-10-33/profiler-output/framework/training_job_end.ts\n",
      "DEMO-diabetes-prediction-xgboost/output/xgb-2024-06-04-02-10-33/xgb-2024-06-04-02-10-33/profiler-output/system/incremental/2024060402/1717467060.algo-1.json\n",
      "DEMO-diabetes-prediction-xgboost/output/xgb-2024-06-04-02-10-33/xgb-2024-06-04-02-10-33/profiler-output/system/incremental/2024060402/1717467120.algo-1.json\n",
      "DEMO-diabetes-prediction-xgboost/output/xgb-2024-06-04-02-10-33/xgb-2024-06-04-02-10-33/profiler-output/system/training_job_end.ts\n",
      "DEMO-diabetes-prediction-xgboost/output/xgb-2024-06-04-02-55-34/xgb-2024-06-04-02-55-34/debug-output/claim.smd\n",
      "DEMO-diabetes-prediction-xgboost/output/xgb-2024-06-04-02-55-34/xgb-2024-06-04-02-55-34/debug-output/collections/000000000/worker_0_collections.json\n",
      "DEMO-diabetes-prediction-xgboost/output/xgb-2024-06-04-02-55-34/xgb-2024-06-04-02-55-34/debug-output/events/000000000000/000000000000_worker_0.tfevents\n",
      "DEMO-diabetes-prediction-xgboost/output/xgb-2024-06-04-02-55-34/xgb-2024-06-04-02-55-34/debug-output/events/000000000010/000000000010_worker_0.tfevents\n",
      "DEMO-diabetes-prediction-xgboost/output/xgb-2024-06-04-02-55-34/xgb-2024-06-04-02-55-34/debug-output/events/000000000020/000000000020_worker_0.tfevents\n",
      "DEMO-diabetes-prediction-xgboost/output/xgb-2024-06-04-02-55-34/xgb-2024-06-04-02-55-34/debug-output/events/000000000030/000000000030_worker_0.tfevents\n",
      "DEMO-diabetes-prediction-xgboost/output/xgb-2024-06-04-02-55-34/xgb-2024-06-04-02-55-34/debug-output/events/000000000040/000000000040_worker_0.tfevents\n",
      "DEMO-diabetes-prediction-xgboost/output/xgb-2024-06-04-02-55-34/xgb-2024-06-04-02-55-34/debug-output/events/000000000050/000000000050_worker_0.tfevents\n",
      "DEMO-diabetes-prediction-xgboost/output/xgb-2024-06-04-02-55-34/xgb-2024-06-04-02-55-34/debug-output/events/000000000060/000000000060_worker_0.tfevents\n",
      "DEMO-diabetes-prediction-xgboost/output/xgb-2024-06-04-02-55-34/xgb-2024-06-04-02-55-34/debug-output/events/000000000070/000000000070_worker_0.tfevents\n",
      "DEMO-diabetes-prediction-xgboost/output/xgb-2024-06-04-02-55-34/xgb-2024-06-04-02-55-34/debug-output/events/000000000080/000000000080_worker_0.tfevents\n",
      "DEMO-diabetes-prediction-xgboost/output/xgb-2024-06-04-02-55-34/xgb-2024-06-04-02-55-34/debug-output/events/000000000090/000000000090_worker_0.tfevents\n",
      "DEMO-diabetes-prediction-xgboost/output/xgb-2024-06-04-02-55-34/xgb-2024-06-04-02-55-34/debug-output/index/000000000/000000000000_worker_0.json\n",
      "DEMO-diabetes-prediction-xgboost/output/xgb-2024-06-04-02-55-34/xgb-2024-06-04-02-55-34/debug-output/index/000000000/000000000010_worker_0.json\n",
      "DEMO-diabetes-prediction-xgboost/output/xgb-2024-06-04-02-55-34/xgb-2024-06-04-02-55-34/debug-output/index/000000000/000000000020_worker_0.json\n",
      "DEMO-diabetes-prediction-xgboost/output/xgb-2024-06-04-02-55-34/xgb-2024-06-04-02-55-34/debug-output/index/000000000/000000000030_worker_0.json\n",
      "DEMO-diabetes-prediction-xgboost/output/xgb-2024-06-04-02-55-34/xgb-2024-06-04-02-55-34/debug-output/index/000000000/000000000040_worker_0.json\n",
      "DEMO-diabetes-prediction-xgboost/output/xgb-2024-06-04-02-55-34/xgb-2024-06-04-02-55-34/debug-output/index/000000000/000000000050_worker_0.json\n",
      "DEMO-diabetes-prediction-xgboost/output/xgb-2024-06-04-02-55-34/xgb-2024-06-04-02-55-34/debug-output/index/000000000/000000000060_worker_0.json\n",
      "DEMO-diabetes-prediction-xgboost/output/xgb-2024-06-04-02-55-34/xgb-2024-06-04-02-55-34/debug-output/index/000000000/000000000070_worker_0.json\n",
      "DEMO-diabetes-prediction-xgboost/output/xgb-2024-06-04-02-55-34/xgb-2024-06-04-02-55-34/debug-output/index/000000000/000000000080_worker_0.json\n",
      "DEMO-diabetes-prediction-xgboost/output/xgb-2024-06-04-02-55-34/xgb-2024-06-04-02-55-34/debug-output/index/000000000/000000000090_worker_0.json\n",
      "DEMO-diabetes-prediction-xgboost/output/xgb-2024-06-04-02-55-34/xgb-2024-06-04-02-55-34/debug-output/training_job_end.ts\n",
      "DEMO-diabetes-prediction-xgboost/output/xgb-2024-06-04-02-55-34/xgb-2024-06-04-02-55-34/output/model.tar.gz\n",
      "DEMO-diabetes-prediction-xgboost/output/xgb-2024-06-04-02-55-34/xgb-2024-06-04-02-55-34/profiler-output/framework/training_job_end.ts\n",
      "DEMO-diabetes-prediction-xgboost/output/xgb-2024-06-04-02-55-34/xgb-2024-06-04-02-55-34/profiler-output/system/incremental/2024060402/1717469760.algo-1.json\n",
      "DEMO-diabetes-prediction-xgboost/output/xgb-2024-06-04-02-55-34/xgb-2024-06-04-02-55-34/profiler-output/system/incremental/2024060402/1717469820.algo-1.json\n",
      "DEMO-diabetes-prediction-xgboost/output/xgb-2024-06-04-02-55-34/xgb-2024-06-04-02-55-34/profiler-output/system/training_job_end.ts\n",
      "DEMO-diabetes-prediction-xgboost/train/train_data.csv\n",
      "DEMO-diabetes-prediction-xgboost/validation/validation_data.csv\n",
      "sagemaker-xgboost-2024-06-04-02-59-35-355/batch_data.csv.out\n",
      "sagemaker-xgboost-2024-06-04-03-13-39-932/batch_data.csv.out\n",
      "sagemaker-xgboost-2024-06-04-03-31-52-781/batch_data.csv.out\n"
     ]
    }
   ],
   "source": [
    "import boto3\n",
    "\n",
    "# Initialize the S3 client\n",
    "s3_client = boto3.client('s3')\n",
    "\n",
    "# Define your bucket name\n",
    "bucket_name = 'sagemaker-us-east-1-333907264027'\n",
    "\n",
    "# List objects in the bucket\n",
    "response = s3_client.list_objects_v2(Bucket=bucket_name)\n",
    "\n",
    "# Print the keys of the objects in the bucket\n",
    "for obj in response.get('Contents', []):\n",
    "    print(obj['Key'])"
   ]
  },
  {
   "cell_type": "markdown",
   "id": "9429083e-9f14-4265-8d48-0007441e0117",
   "metadata": {},
   "source": [
    "### - Create a Basic Model Card"
   ]
  },
  {
   "cell_type": "code",
   "execution_count": 9,
   "id": "ef36ae4a-289d-4b83-b284-956fc802dc3a",
   "metadata": {
    "tags": []
   },
   "outputs": [
    {
     "name": "stdout",
     "output_type": "stream",
     "text": [
      "Model Card ARN: arn:aws:sagemaker:us-east-1:333907264027:model-card/xgboost-diabetes-detection\n",
      "{'ModelCardArn': 'arn:aws:sagemaker:us-east-1:333907264027:model-card/xgboost-diabetes-detection', 'ModelCardName': 'xgboost-diabetes-detection', 'ModelCardVersion': 1, 'Content': '{\"model_overview\": {\"model_name\": \"XGBoost Diabetes Detection\", \"model_description\": \"This model predicts the likelihood of diabetes based on health indicators using the XGBoost algorithm.\", \"model_owner\": \"Massimiliano Repupilli\", \"problem_type\": \"Binary Classification\"}, \"evaluation_details\": [{\"name\": \"Evaluation 1\"}]}', 'ModelCardStatus': 'Draft', 'CreationTime': datetime.datetime(2024, 6, 4, 6, 7, 4, 540000, tzinfo=tzlocal()), 'CreatedBy': {'UserProfileArn': 'arn:aws:sagemaker:us-east-1:333907264027:user-profile/d-zegxltkmyanc/maxrep', 'UserProfileName': 'maxrep', 'DomainId': 'd-zegxltkmyanc'}, 'LastModifiedTime': datetime.datetime(2024, 6, 4, 6, 7, 4, 540000, tzinfo=tzlocal()), 'LastModifiedBy': {'UserProfileArn': 'arn:aws:sagemaker:us-east-1:333907264027:user-profile/d-zegxltkmyanc/maxrep', 'UserProfileName': 'maxrep', 'DomainId': 'd-zegxltkmyanc'}, 'ResponseMetadata': {'RequestId': 'a8686bd8-81d4-40b6-9d87-f41c910dbebc', 'HTTPStatusCode': 200, 'HTTPHeaders': {'x-amzn-requestid': 'a8686bd8-81d4-40b6-9d87-f41c910dbebc', 'content-type': 'application/x-amz-json-1.1', 'content-length': '948', 'date': 'Tue, 04 Jun 2024 06:07:04 GMT'}, 'RetryAttempts': 0}}\n"
     ]
    }
   ],
   "source": [
    "import boto3\n",
    "import json\n",
    "\n",
    "# Initialize the SageMaker client\n",
    "sagemaker_client = boto3.client('sagemaker')\n",
    "\n",
    "# Define the Model Card parameters\n",
    "model_card_name = \"xgboost-diabetes-detection\"\n",
    "model_card_content = {\n",
    "    \"model_overview\": {\n",
    "                        \"model_name\": \"XGBoost Diabetes Detection\",\n",
    "                        \"model_description\": \"This model predicts the likelihood of diabetes based on health indicators using the XGBoost algorithm.\",\n",
    "                        \"model_owner\": \"Massimiliano Repupilli\",\n",
    "                        \"problem_type\": \"Binary Classification\"\n",
    "                      },\n",
    "    \"evaluation_details\": [\n",
    "                            {\n",
    "                            \"name\": \"Evaluation 1\",\n",
    "            \n",
    "                            }\n",
    "    ]\n",
    "}\n",
    "\n",
    "# Convert the Content dictionary to a JSON string\n",
    "model_card_content_json = json.dumps(model_card_content)\n",
    "\n",
    "# Create the Model Card\n",
    "create_model_card_response = sagemaker_client.create_model_card(\n",
    "    ModelCardName=model_card_name,\n",
    "    Content=model_card_content_json,\n",
    "    ModelCardStatus=\"Draft\"  # Required parameter\n",
    ")\n",
    "\n",
    "print(\"Model Card ARN:\", create_model_card_response['ModelCardArn'])\n",
    "\n",
    "# Describe the Model Card\n",
    "describe_model_card_response = sagemaker_client.describe_model_card(\n",
    "    ModelCardName=model_card_name\n",
    ")\n",
    "\n",
    "print(describe_model_card_response)"
   ]
  },
  {
   "cell_type": "markdown",
   "id": "bd0aff22-00fe-4bd6-ba96-2a4fa031d2e2",
   "metadata": {},
   "source": [
    "### - Update Existing Model Card"
   ]
  },
  {
   "cell_type": "code",
   "execution_count": 10,
   "id": "15404d96-fe08-46c9-8168-98fcb6ab6c5f",
   "metadata": {
    "tags": []
   },
   "outputs": [
    {
     "name": "stdout",
     "output_type": "stream",
     "text": [
      "Updated Model Card ARN: arn:aws:sagemaker:us-east-1:333907264027:model-card/xgboost-diabetes-detection\n",
      "{'ModelCardArn': 'arn:aws:sagemaker:us-east-1:333907264027:model-card/xgboost-diabetes-detection', 'ModelCardName': 'xgboost-diabetes-detection', 'ModelCardVersion': 2, 'Content': '{\"model_overview\": {\"model_name\": \"XGBoost Diabetes Detection\", \"model_description\": \"This model predicts the likelihood of diabetes based on health indicators using the XGBoost algorithm.\", \"model_owner\": \"Max Repupilli\", \"problem_type\": \"Binary Classification\"}, \"evaluation_details\": [{\"name\": \"Evaluation 1\"}]}', 'ModelCardStatus': 'Draft', 'CreationTime': datetime.datetime(2024, 6, 4, 6, 7, 4, 540000, tzinfo=tzlocal()), 'CreatedBy': {'UserProfileArn': 'arn:aws:sagemaker:us-east-1:333907264027:user-profile/d-zegxltkmyanc/maxrep', 'UserProfileName': 'maxrep', 'DomainId': 'd-zegxltkmyanc'}, 'LastModifiedTime': datetime.datetime(2024, 6, 4, 6, 7, 10, 819000, tzinfo=tzlocal()), 'LastModifiedBy': {'UserProfileArn': 'arn:aws:sagemaker:us-east-1:333907264027:user-profile/d-zegxltkmyanc/maxrep', 'UserProfileName': 'maxrep', 'DomainId': 'd-zegxltkmyanc'}, 'ResponseMetadata': {'RequestId': '9a78ecd4-ec8b-4fee-ad2a-f31b98bd2fc7', 'HTTPStatusCode': 200, 'HTTPHeaders': {'x-amzn-requestid': '9a78ecd4-ec8b-4fee-ad2a-f31b98bd2fc7', 'content-type': 'application/x-amz-json-1.1', 'content-length': '940', 'date': 'Tue, 04 Jun 2024 06:07:10 GMT'}, 'RetryAttempts': 0}}\n"
     ]
    }
   ],
   "source": [
    "model_card_content_v2 = {\n",
    "    \"model_overview\": {\n",
    "        \"model_name\": \"XGBoost Diabetes Detection\",\n",
    "        \"model_description\": \"This model predicts the likelihood of diabetes based on health indicators using the XGBoost algorithm.\",\n",
    "        \"model_owner\": \"Max Repupilli\",\n",
    "        \"problem_type\": \"Binary Classification\"\n",
    "    },\n",
    "    \"evaluation_details\": [\n",
    "        {\n",
    "            \"name\": \"Evaluation 1\"\n",
    "        }\n",
    "    ]\n",
    "}\n",
    "\n",
    "# Convert the Content dictionary to a JSON string\n",
    "model_card_content_json = json.dumps(model_card_content_v2)\n",
    "\n",
    "# Update the existing Model Card\n",
    "update_model_card_response = sagemaker_client.update_model_card(\n",
    "    ModelCardName=model_card_name,\n",
    "    Content=model_card_content_json,\n",
    "    ModelCardStatus=\"Draft\"  # Required parameter\n",
    ")\n",
    "\n",
    "print(\"Updated Model Card ARN:\", update_model_card_response['ModelCardArn'])\n",
    "\n",
    "# Describe the Model Card\n",
    "describe_model_card_response = sagemaker_client.describe_model_card(\n",
    "    ModelCardName=model_card_name\n",
    ")\n",
    "\n",
    "print(describe_model_card_response)\n"
   ]
  },
  {
   "cell_type": "markdown",
   "id": "18415e72-8b8a-424c-9fd2-cbcf315ae910",
   "metadata": {},
   "source": [
    "### - Create a New Version of a Model Card"
   ]
  },
  {
   "cell_type": "code",
   "execution_count": 11,
   "id": "ed24007a-db2d-4bb4-b3c9-1eb86b27e64c",
   "metadata": {
    "tags": []
   },
   "outputs": [
    {
     "name": "stdout",
     "output_type": "stream",
     "text": [
      "New Model Card ARN: arn:aws:sagemaker:us-east-1:333907264027:model-card/xgboost-diabetes-detection-v1\n",
      "{'ModelCardArn': 'arn:aws:sagemaker:us-east-1:333907264027:model-card/xgboost-diabetes-detection-v1', 'ModelCardName': 'xgboost-diabetes-detection-v1', 'ModelCardVersion': 1, 'Content': '{\"model_overview\": {\"model_name\": \"XGBoost Diabetes Detection\", \"model_description\": \"This model predicts the likelihood of diabetes based on health indicators using the XGBoost algorithm.\", \"model_owner\": \"Max Repupilli\", \"problem_type\": \"Binary Classification\"}, \"evaluation_details\": [{\"name\": \"Evaluation 1\"}]}', 'ModelCardStatus': 'Draft', 'CreationTime': datetime.datetime(2024, 6, 4, 6, 7, 13, 527000, tzinfo=tzlocal()), 'CreatedBy': {'UserProfileArn': 'arn:aws:sagemaker:us-east-1:333907264027:user-profile/d-zegxltkmyanc/maxrep', 'UserProfileName': 'maxrep', 'DomainId': 'd-zegxltkmyanc'}, 'LastModifiedTime': datetime.datetime(2024, 6, 4, 6, 7, 13, 527000, tzinfo=tzlocal()), 'LastModifiedBy': {'UserProfileArn': 'arn:aws:sagemaker:us-east-1:333907264027:user-profile/d-zegxltkmyanc/maxrep', 'UserProfileName': 'maxrep', 'DomainId': 'd-zegxltkmyanc'}, 'ResponseMetadata': {'RequestId': '880c209e-1cda-46db-8746-1af35ebcc4a6', 'HTTPStatusCode': 200, 'HTTPHeaders': {'x-amzn-requestid': '880c209e-1cda-46db-8746-1af35ebcc4a6', 'content-type': 'application/x-amz-json-1.1', 'content-length': '947', 'date': 'Tue, 04 Jun 2024 06:07:13 GMT'}, 'RetryAttempts': 0}}\n"
     ]
    }
   ],
   "source": [
    "# Define a new Model Card name or version\n",
    "new_model_card_name = \"xgboost-diabetes-detection-v1\"  # Or handle versioning within content\n",
    "\n",
    "# Create the new Model Card\n",
    "create_model_card_response = sagemaker_client.create_model_card(\n",
    "    ModelCardName=new_model_card_name,\n",
    "    Content=model_card_content_json,\n",
    "    ModelCardStatus=\"Draft\"  # Required parameter\n",
    ")\n",
    "\n",
    "print(\"New Model Card ARN:\", create_model_card_response['ModelCardArn'])\n",
    "\n",
    "# Describe the new Model Card\n",
    "describe_model_card_response = sagemaker_client.describe_model_card(\n",
    "    ModelCardName=new_model_card_name\n",
    ")\n",
    "\n",
    "print(describe_model_card_response)\n"
   ]
  },
  {
   "cell_type": "markdown",
   "id": "fc1a288c-e838-4f13-8d81-335e5d4a0186",
   "metadata": {},
   "source": [
    "### - List ALL 'Existing' Model Cards"
   ]
  },
  {
   "cell_type": "code",
   "execution_count": 12,
   "id": "3f82286d-ed4e-4922-bc76-5588c6020f44",
   "metadata": {
    "tags": []
   },
   "outputs": [
    {
     "name": "stdout",
     "output_type": "stream",
     "text": [
      "Model Card Name: xgboost-diabetes-detection, Creation Time: 2024-06-04 06:07:04.540000+00:00\n",
      "Model Card Name: xgboost-diabetes-detection-v1, Creation Time: 2024-06-04 06:07:13.527000+00:00\n",
      "ModelCardName: xgboost-diabetes-detection\n",
      "ModelCardArn: arn:aws:sagemaker:us-east-1:333907264027:model-card/xgboost-diabetes-detection\n",
      "ModelCardStatus: Draft\n",
      "CreationTime: 2024-06-04 06:07:04.540000+00:00\n",
      "LastModifiedTime: 2024-06-04 06:07:10.819000+00:00\n",
      "----\n",
      "ModelCardName: xgboost-diabetes-detection-v1\n",
      "ModelCardArn: arn:aws:sagemaker:us-east-1:333907264027:model-card/xgboost-diabetes-detection-v1\n",
      "ModelCardStatus: Draft\n",
      "CreationTime: 2024-06-04 06:07:13.527000+00:00\n",
      "LastModifiedTime: 2024-06-04 06:07:13.527000+00:00\n",
      "----\n"
     ]
    }
   ],
   "source": [
    "import boto3\n",
    "\n",
    "# Initialize the SageMaker client\n",
    "sagemaker_client = boto3.client('sagemaker')\n",
    "\n",
    "# List all Model Cards\n",
    "list_model_cards_response = sagemaker_client.list_model_cards()\n",
    "\n",
    "# Print the list of Model Cards\n",
    "for model_card in list_model_cards_response.get('ModelCardSummaries', []):\n",
    "    print(f\"Model Card Name: {model_card['ModelCardName']}, Creation Time: {model_card['CreationTime']}\")\n",
    "\n",
    "# If there are additional attributes, print them\n",
    "for model_card in list_model_cards_response.get('ModelCardSummaries', []):\n",
    "    for key, value in model_card.items():\n",
    "        print(f\"{key}: {value}\")\n",
    "    print(\"----\")\n",
    "if len(list_model_cards_response.get('ModelCardSummaries', [])) == 0:\n",
    "    print('No Model Cards Exist')"
   ]
  },
  {
   "cell_type": "markdown",
   "id": "9c8cb0b3-7817-4ac8-8450-801ce91a8afd",
   "metadata": {},
   "source": [
    "### - Delete ALL Cards in the List"
   ]
  },
  {
   "cell_type": "code",
   "execution_count": 13,
   "id": "a12fc4f6-d861-4644-9855-bbc39c58e170",
   "metadata": {
    "tags": []
   },
   "outputs": [
    {
     "name": "stdout",
     "output_type": "stream",
     "text": [
      "Deleting Model Card: xgboost-diabetes-detection\n",
      "Deleting Model Card: xgboost-diabetes-detection-v1\n",
      "All Model Cards have been deleted.\n"
     ]
    }
   ],
   "source": [
    "import boto3\n",
    "\n",
    "# Initialize the SageMaker client\n",
    "sagemaker_client = boto3.client('sagemaker')\n",
    "\n",
    "# List all Model Cards\n",
    "list_model_cards_response = sagemaker_client.list_model_cards()\n",
    "\n",
    "# Loop through each model card and delete it\n",
    "for model_card in list_model_cards_response.get('ModelCardSummaries', []):\n",
    "    model_card_name = model_card['ModelCardName']\n",
    "    # Describe the model card to get the version\n",
    "    describe_model_card_response = sagemaker_client.describe_model_card(\n",
    "        ModelCardName=model_card_name,\n",
    "        ModelCardVersion=1  # assuming version 1, update if needed\n",
    "    )\n",
    "    model_card_arn = describe_model_card_response['ModelCardArn']\n",
    "    \n",
    "    # Delete the model card\n",
    "    print(f\"Deleting Model Card: {model_card_name}\")\n",
    "    sagemaker_client.delete_model_card(ModelCardName=model_card_name)\n",
    "\n",
    "print(\"All Model Cards have been deleted.\")\n"
   ]
  },
  {
   "cell_type": "markdown",
   "id": "03bdc7b0-f88b-4465-8eff-1dc1857b52a0",
   "metadata": {},
   "source": [
    "### - Delete a Specific Card"
   ]
  },
  {
   "cell_type": "code",
   "execution_count": null,
   "id": "a7ca94d8-3330-4c3f-a9d3-1d0ccf235f61",
   "metadata": {},
   "outputs": [],
   "source": [
    "import boto3\n",
    "\n",
    "# Initialize the SageMaker client\n",
    "sagemaker_client = boto3.client('sagemaker')\n",
    "\n",
    "# Specify the Model Card name you want to delete\n",
    "model_card_name = \"xgboost-diabetes-detection\"\n",
    "\n",
    "# Delete the Model Card\n",
    "delete_model_card_response = sagemaker_client.delete_model_card(\n",
    "    ModelCardName=model_card_name\n",
    ")\n",
    "\n",
    "print(\"Model Card deleted:\", delete_model_card_response)"
   ]
  },
  {
   "cell_type": "code",
   "execution_count": null,
   "id": "e934ec35-d2a1-45f2-9079-907f4423f264",
   "metadata": {},
   "outputs": [],
   "source": []
  }
 ],
 "metadata": {
  "availableInstances": [
   {
    "_defaultOrder": 0,
    "_isFastLaunch": true,
    "category": "General purpose",
    "gpuNum": 0,
    "hideHardwareSpecs": false,
    "memoryGiB": 4,
    "name": "ml.t3.medium",
    "vcpuNum": 2
   },
   {
    "_defaultOrder": 1,
    "_isFastLaunch": false,
    "category": "General purpose",
    "gpuNum": 0,
    "hideHardwareSpecs": false,
    "memoryGiB": 8,
    "name": "ml.t3.large",
    "vcpuNum": 2
   },
   {
    "_defaultOrder": 2,
    "_isFastLaunch": false,
    "category": "General purpose",
    "gpuNum": 0,
    "hideHardwareSpecs": false,
    "memoryGiB": 16,
    "name": "ml.t3.xlarge",
    "vcpuNum": 4
   },
   {
    "_defaultOrder": 3,
    "_isFastLaunch": false,
    "category": "General purpose",
    "gpuNum": 0,
    "hideHardwareSpecs": false,
    "memoryGiB": 32,
    "name": "ml.t3.2xlarge",
    "vcpuNum": 8
   },
   {
    "_defaultOrder": 4,
    "_isFastLaunch": true,
    "category": "General purpose",
    "gpuNum": 0,
    "hideHardwareSpecs": false,
    "memoryGiB": 8,
    "name": "ml.m5.large",
    "vcpuNum": 2
   },
   {
    "_defaultOrder": 5,
    "_isFastLaunch": false,
    "category": "General purpose",
    "gpuNum": 0,
    "hideHardwareSpecs": false,
    "memoryGiB": 16,
    "name": "ml.m5.xlarge",
    "vcpuNum": 4
   },
   {
    "_defaultOrder": 6,
    "_isFastLaunch": false,
    "category": "General purpose",
    "gpuNum": 0,
    "hideHardwareSpecs": false,
    "memoryGiB": 32,
    "name": "ml.m5.2xlarge",
    "vcpuNum": 8
   },
   {
    "_defaultOrder": 7,
    "_isFastLaunch": false,
    "category": "General purpose",
    "gpuNum": 0,
    "hideHardwareSpecs": false,
    "memoryGiB": 64,
    "name": "ml.m5.4xlarge",
    "vcpuNum": 16
   },
   {
    "_defaultOrder": 8,
    "_isFastLaunch": false,
    "category": "General purpose",
    "gpuNum": 0,
    "hideHardwareSpecs": false,
    "memoryGiB": 128,
    "name": "ml.m5.8xlarge",
    "vcpuNum": 32
   },
   {
    "_defaultOrder": 9,
    "_isFastLaunch": false,
    "category": "General purpose",
    "gpuNum": 0,
    "hideHardwareSpecs": false,
    "memoryGiB": 192,
    "name": "ml.m5.12xlarge",
    "vcpuNum": 48
   },
   {
    "_defaultOrder": 10,
    "_isFastLaunch": false,
    "category": "General purpose",
    "gpuNum": 0,
    "hideHardwareSpecs": false,
    "memoryGiB": 256,
    "name": "ml.m5.16xlarge",
    "vcpuNum": 64
   },
   {
    "_defaultOrder": 11,
    "_isFastLaunch": false,
    "category": "General purpose",
    "gpuNum": 0,
    "hideHardwareSpecs": false,
    "memoryGiB": 384,
    "name": "ml.m5.24xlarge",
    "vcpuNum": 96
   },
   {
    "_defaultOrder": 12,
    "_isFastLaunch": false,
    "category": "General purpose",
    "gpuNum": 0,
    "hideHardwareSpecs": false,
    "memoryGiB": 8,
    "name": "ml.m5d.large",
    "vcpuNum": 2
   },
   {
    "_defaultOrder": 13,
    "_isFastLaunch": false,
    "category": "General purpose",
    "gpuNum": 0,
    "hideHardwareSpecs": false,
    "memoryGiB": 16,
    "name": "ml.m5d.xlarge",
    "vcpuNum": 4
   },
   {
    "_defaultOrder": 14,
    "_isFastLaunch": false,
    "category": "General purpose",
    "gpuNum": 0,
    "hideHardwareSpecs": false,
    "memoryGiB": 32,
    "name": "ml.m5d.2xlarge",
    "vcpuNum": 8
   },
   {
    "_defaultOrder": 15,
    "_isFastLaunch": false,
    "category": "General purpose",
    "gpuNum": 0,
    "hideHardwareSpecs": false,
    "memoryGiB": 64,
    "name": "ml.m5d.4xlarge",
    "vcpuNum": 16
   },
   {
    "_defaultOrder": 16,
    "_isFastLaunch": false,
    "category": "General purpose",
    "gpuNum": 0,
    "hideHardwareSpecs": false,
    "memoryGiB": 128,
    "name": "ml.m5d.8xlarge",
    "vcpuNum": 32
   },
   {
    "_defaultOrder": 17,
    "_isFastLaunch": false,
    "category": "General purpose",
    "gpuNum": 0,
    "hideHardwareSpecs": false,
    "memoryGiB": 192,
    "name": "ml.m5d.12xlarge",
    "vcpuNum": 48
   },
   {
    "_defaultOrder": 18,
    "_isFastLaunch": false,
    "category": "General purpose",
    "gpuNum": 0,
    "hideHardwareSpecs": false,
    "memoryGiB": 256,
    "name": "ml.m5d.16xlarge",
    "vcpuNum": 64
   },
   {
    "_defaultOrder": 19,
    "_isFastLaunch": false,
    "category": "General purpose",
    "gpuNum": 0,
    "hideHardwareSpecs": false,
    "memoryGiB": 384,
    "name": "ml.m5d.24xlarge",
    "vcpuNum": 96
   },
   {
    "_defaultOrder": 20,
    "_isFastLaunch": false,
    "category": "General purpose",
    "gpuNum": 0,
    "hideHardwareSpecs": true,
    "memoryGiB": 0,
    "name": "ml.geospatial.interactive",
    "supportedImageNames": [
     "sagemaker-geospatial-v1-0"
    ],
    "vcpuNum": 0
   },
   {
    "_defaultOrder": 21,
    "_isFastLaunch": true,
    "category": "Compute optimized",
    "gpuNum": 0,
    "hideHardwareSpecs": false,
    "memoryGiB": 4,
    "name": "ml.c5.large",
    "vcpuNum": 2
   },
   {
    "_defaultOrder": 22,
    "_isFastLaunch": false,
    "category": "Compute optimized",
    "gpuNum": 0,
    "hideHardwareSpecs": false,
    "memoryGiB": 8,
    "name": "ml.c5.xlarge",
    "vcpuNum": 4
   },
   {
    "_defaultOrder": 23,
    "_isFastLaunch": false,
    "category": "Compute optimized",
    "gpuNum": 0,
    "hideHardwareSpecs": false,
    "memoryGiB": 16,
    "name": "ml.c5.2xlarge",
    "vcpuNum": 8
   },
   {
    "_defaultOrder": 24,
    "_isFastLaunch": false,
    "category": "Compute optimized",
    "gpuNum": 0,
    "hideHardwareSpecs": false,
    "memoryGiB": 32,
    "name": "ml.c5.4xlarge",
    "vcpuNum": 16
   },
   {
    "_defaultOrder": 25,
    "_isFastLaunch": false,
    "category": "Compute optimized",
    "gpuNum": 0,
    "hideHardwareSpecs": false,
    "memoryGiB": 72,
    "name": "ml.c5.9xlarge",
    "vcpuNum": 36
   },
   {
    "_defaultOrder": 26,
    "_isFastLaunch": false,
    "category": "Compute optimized",
    "gpuNum": 0,
    "hideHardwareSpecs": false,
    "memoryGiB": 96,
    "name": "ml.c5.12xlarge",
    "vcpuNum": 48
   },
   {
    "_defaultOrder": 27,
    "_isFastLaunch": false,
    "category": "Compute optimized",
    "gpuNum": 0,
    "hideHardwareSpecs": false,
    "memoryGiB": 144,
    "name": "ml.c5.18xlarge",
    "vcpuNum": 72
   },
   {
    "_defaultOrder": 28,
    "_isFastLaunch": false,
    "category": "Compute optimized",
    "gpuNum": 0,
    "hideHardwareSpecs": false,
    "memoryGiB": 192,
    "name": "ml.c5.24xlarge",
    "vcpuNum": 96
   },
   {
    "_defaultOrder": 29,
    "_isFastLaunch": true,
    "category": "Accelerated computing",
    "gpuNum": 1,
    "hideHardwareSpecs": false,
    "memoryGiB": 16,
    "name": "ml.g4dn.xlarge",
    "vcpuNum": 4
   },
   {
    "_defaultOrder": 30,
    "_isFastLaunch": false,
    "category": "Accelerated computing",
    "gpuNum": 1,
    "hideHardwareSpecs": false,
    "memoryGiB": 32,
    "name": "ml.g4dn.2xlarge",
    "vcpuNum": 8
   },
   {
    "_defaultOrder": 31,
    "_isFastLaunch": false,
    "category": "Accelerated computing",
    "gpuNum": 1,
    "hideHardwareSpecs": false,
    "memoryGiB": 64,
    "name": "ml.g4dn.4xlarge",
    "vcpuNum": 16
   },
   {
    "_defaultOrder": 32,
    "_isFastLaunch": false,
    "category": "Accelerated computing",
    "gpuNum": 1,
    "hideHardwareSpecs": false,
    "memoryGiB": 128,
    "name": "ml.g4dn.8xlarge",
    "vcpuNum": 32
   },
   {
    "_defaultOrder": 33,
    "_isFastLaunch": false,
    "category": "Accelerated computing",
    "gpuNum": 4,
    "hideHardwareSpecs": false,
    "memoryGiB": 192,
    "name": "ml.g4dn.12xlarge",
    "vcpuNum": 48
   },
   {
    "_defaultOrder": 34,
    "_isFastLaunch": false,
    "category": "Accelerated computing",
    "gpuNum": 1,
    "hideHardwareSpecs": false,
    "memoryGiB": 256,
    "name": "ml.g4dn.16xlarge",
    "vcpuNum": 64
   },
   {
    "_defaultOrder": 35,
    "_isFastLaunch": false,
    "category": "Accelerated computing",
    "gpuNum": 1,
    "hideHardwareSpecs": false,
    "memoryGiB": 61,
    "name": "ml.p3.2xlarge",
    "vcpuNum": 8
   },
   {
    "_defaultOrder": 36,
    "_isFastLaunch": false,
    "category": "Accelerated computing",
    "gpuNum": 4,
    "hideHardwareSpecs": false,
    "memoryGiB": 244,
    "name": "ml.p3.8xlarge",
    "vcpuNum": 32
   },
   {
    "_defaultOrder": 37,
    "_isFastLaunch": false,
    "category": "Accelerated computing",
    "gpuNum": 8,
    "hideHardwareSpecs": false,
    "memoryGiB": 488,
    "name": "ml.p3.16xlarge",
    "vcpuNum": 64
   },
   {
    "_defaultOrder": 38,
    "_isFastLaunch": false,
    "category": "Accelerated computing",
    "gpuNum": 8,
    "hideHardwareSpecs": false,
    "memoryGiB": 768,
    "name": "ml.p3dn.24xlarge",
    "vcpuNum": 96
   },
   {
    "_defaultOrder": 39,
    "_isFastLaunch": false,
    "category": "Memory Optimized",
    "gpuNum": 0,
    "hideHardwareSpecs": false,
    "memoryGiB": 16,
    "name": "ml.r5.large",
    "vcpuNum": 2
   },
   {
    "_defaultOrder": 40,
    "_isFastLaunch": false,
    "category": "Memory Optimized",
    "gpuNum": 0,
    "hideHardwareSpecs": false,
    "memoryGiB": 32,
    "name": "ml.r5.xlarge",
    "vcpuNum": 4
   },
   {
    "_defaultOrder": 41,
    "_isFastLaunch": false,
    "category": "Memory Optimized",
    "gpuNum": 0,
    "hideHardwareSpecs": false,
    "memoryGiB": 64,
    "name": "ml.r5.2xlarge",
    "vcpuNum": 8
   },
   {
    "_defaultOrder": 42,
    "_isFastLaunch": false,
    "category": "Memory Optimized",
    "gpuNum": 0,
    "hideHardwareSpecs": false,
    "memoryGiB": 128,
    "name": "ml.r5.4xlarge",
    "vcpuNum": 16
   },
   {
    "_defaultOrder": 43,
    "_isFastLaunch": false,
    "category": "Memory Optimized",
    "gpuNum": 0,
    "hideHardwareSpecs": false,
    "memoryGiB": 256,
    "name": "ml.r5.8xlarge",
    "vcpuNum": 32
   },
   {
    "_defaultOrder": 44,
    "_isFastLaunch": false,
    "category": "Memory Optimized",
    "gpuNum": 0,
    "hideHardwareSpecs": false,
    "memoryGiB": 384,
    "name": "ml.r5.12xlarge",
    "vcpuNum": 48
   },
   {
    "_defaultOrder": 45,
    "_isFastLaunch": false,
    "category": "Memory Optimized",
    "gpuNum": 0,
    "hideHardwareSpecs": false,
    "memoryGiB": 512,
    "name": "ml.r5.16xlarge",
    "vcpuNum": 64
   },
   {
    "_defaultOrder": 46,
    "_isFastLaunch": false,
    "category": "Memory Optimized",
    "gpuNum": 0,
    "hideHardwareSpecs": false,
    "memoryGiB": 768,
    "name": "ml.r5.24xlarge",
    "vcpuNum": 96
   },
   {
    "_defaultOrder": 47,
    "_isFastLaunch": false,
    "category": "Accelerated computing",
    "gpuNum": 1,
    "hideHardwareSpecs": false,
    "memoryGiB": 16,
    "name": "ml.g5.xlarge",
    "vcpuNum": 4
   },
   {
    "_defaultOrder": 48,
    "_isFastLaunch": false,
    "category": "Accelerated computing",
    "gpuNum": 1,
    "hideHardwareSpecs": false,
    "memoryGiB": 32,
    "name": "ml.g5.2xlarge",
    "vcpuNum": 8
   },
   {
    "_defaultOrder": 49,
    "_isFastLaunch": false,
    "category": "Accelerated computing",
    "gpuNum": 1,
    "hideHardwareSpecs": false,
    "memoryGiB": 64,
    "name": "ml.g5.4xlarge",
    "vcpuNum": 16
   },
   {
    "_defaultOrder": 50,
    "_isFastLaunch": false,
    "category": "Accelerated computing",
    "gpuNum": 1,
    "hideHardwareSpecs": false,
    "memoryGiB": 128,
    "name": "ml.g5.8xlarge",
    "vcpuNum": 32
   },
   {
    "_defaultOrder": 51,
    "_isFastLaunch": false,
    "category": "Accelerated computing",
    "gpuNum": 1,
    "hideHardwareSpecs": false,
    "memoryGiB": 256,
    "name": "ml.g5.16xlarge",
    "vcpuNum": 64
   },
   {
    "_defaultOrder": 52,
    "_isFastLaunch": false,
    "category": "Accelerated computing",
    "gpuNum": 4,
    "hideHardwareSpecs": false,
    "memoryGiB": 192,
    "name": "ml.g5.12xlarge",
    "vcpuNum": 48
   },
   {
    "_defaultOrder": 53,
    "_isFastLaunch": false,
    "category": "Accelerated computing",
    "gpuNum": 4,
    "hideHardwareSpecs": false,
    "memoryGiB": 384,
    "name": "ml.g5.24xlarge",
    "vcpuNum": 96
   },
   {
    "_defaultOrder": 54,
    "_isFastLaunch": false,
    "category": "Accelerated computing",
    "gpuNum": 8,
    "hideHardwareSpecs": false,
    "memoryGiB": 768,
    "name": "ml.g5.48xlarge",
    "vcpuNum": 192
   },
   {
    "_defaultOrder": 55,
    "_isFastLaunch": false,
    "category": "Accelerated computing",
    "gpuNum": 8,
    "hideHardwareSpecs": false,
    "memoryGiB": 1152,
    "name": "ml.p4d.24xlarge",
    "vcpuNum": 96
   },
   {
    "_defaultOrder": 56,
    "_isFastLaunch": false,
    "category": "Accelerated computing",
    "gpuNum": 8,
    "hideHardwareSpecs": false,
    "memoryGiB": 1152,
    "name": "ml.p4de.24xlarge",
    "vcpuNum": 96
   },
   {
    "_defaultOrder": 57,
    "_isFastLaunch": false,
    "category": "Accelerated computing",
    "gpuNum": 0,
    "hideHardwareSpecs": false,
    "memoryGiB": 32,
    "name": "ml.trn1.2xlarge",
    "vcpuNum": 8
   },
   {
    "_defaultOrder": 58,
    "_isFastLaunch": false,
    "category": "Accelerated computing",
    "gpuNum": 0,
    "hideHardwareSpecs": false,
    "memoryGiB": 512,
    "name": "ml.trn1.32xlarge",
    "vcpuNum": 128
   },
   {
    "_defaultOrder": 59,
    "_isFastLaunch": false,
    "category": "Accelerated computing",
    "gpuNum": 0,
    "hideHardwareSpecs": false,
    "memoryGiB": 512,
    "name": "ml.trn1n.32xlarge",
    "vcpuNum": 128
   }
  ],
  "instance_type": "ml.t3.medium",
  "kernelspec": {
   "display_name": "Python 3 (Data Science 3.0)",
   "language": "python",
   "name": "python3__SAGEMAKER_INTERNAL__arn:aws:sagemaker:us-east-1:081325390199:image/sagemaker-data-science-310-v1"
  },
  "language_info": {
   "codemirror_mode": {
    "name": "ipython",
    "version": 3
   },
   "file_extension": ".py",
   "mimetype": "text/x-python",
   "name": "python",
   "nbconvert_exporter": "python",
   "pygments_lexer": "ipython3",
   "version": "3.10.6"
  }
 },
 "nbformat": 4,
 "nbformat_minor": 5
}
